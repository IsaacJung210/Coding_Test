{
 "cells": [
  {
   "cell_type": "markdown",
   "metadata": {},
   "source": [
    "## □ 문제 설명\n",
    "##### JadenCase란 모든 단어의 첫 문자가 대문자이고, 그 외의 알파벳은 소문자인 문자열입니다. 단, 첫 문자가 알파벳이 아닐 때에는 이어지는 알파벳은 소문자로 쓰면 됩니다. (첫 번째 입출력 예 참고)\n",
    "##### 문자열 s가 주어졌을 때, s를 JadenCase로 바꾼 문자열을 리턴하는 함수, solution을 완성해주세요.\n",
    "\n",
    "## □ 제한 조건\n",
    "- s는 길이 1 이상 200 이하인 문자열입니다.\n",
    "- s는 알파벳과 숫자, 공백문자(\" \")로 이루어져 있습니다.\n",
    "- 숫자는 단어의 첫 문자로만 나옵니다.\n",
    "- 숫자로만 이루어진 단어는 없습니다.\n",
    "- 공백문자가 연속해서 나올 수 있습니다."
   ]
  },
  {
   "cell_type": "code",
   "execution_count": 10,
   "metadata": {},
   "outputs": [
    {
     "name": "stdout",
     "output_type": "stream",
     "text": [
      "0\n",
      "1\n",
      "2\n"
     ]
    },
    {
     "data": {
      "text/plain": [
       "'3people Unfollowed Me'"
      ]
     },
     "execution_count": 10,
     "metadata": {},
     "output_type": "execute_result"
    }
   ],
   "source": [
    "s = \"3people unFollowed me\"\n",
    "\n",
    "def solution(s):\n",
    "    answer =' '\n",
    "    s = (s.split(' '))\n",
    "    for i in range(len(s)):\n",
    "        s[i] = s[i].capitalize()\n",
    "    answer = ' '.join(s)\n",
    "    return answer\n",
    "\n",
    "solution(s)"
   ]
  },
  {
   "cell_type": "markdown",
   "metadata": {},
   "source": [
    "##### capitalize 내장함수를 사용하면 첫 문자가 알파벳일 경우 대문자로 만들고\n",
    "##### 두번째 문자부터는 자동으로 소문자로 만든다\n",
    "##### 첫 문자가 알파벳이 아니면 그대로 리턴한다"
   ]
  },
  {
   "cell_type": "markdown",
   "metadata": {},
   "source": [
    "## 다른 사람들 풀이"
   ]
  },
  {
   "cell_type": "code",
   "execution_count": 12,
   "metadata": {},
   "outputs": [
    {
     "name": "stdout",
     "output_type": "stream",
     "text": [
      "3people Unfollowed Me For The Last Week\n"
     ]
    }
   ],
   "source": [
    "def Jaden_Case(s):\n",
    "    # 함수를 완성하세요\n",
    "    answer =[]\n",
    "    for i in range(len(s.split())):\n",
    "        answer.append(s.split()[i][0].upper() + s.split()[i].lower()[1:]) \n",
    "    return \" \".join(answer)\n",
    "\n",
    "# 아래는 테스트로 출력해 보기 위한 코드입니다.\n",
    "print(Jaden_Case(\"3people unFollowed me for the last week\"))"
   ]
  },
  {
   "cell_type": "code",
   "execution_count": null,
   "metadata": {},
   "outputs": [],
   "source": []
  }
 ],
 "metadata": {
  "kernelspec": {
   "display_name": "Python 3.9.7 ('base')",
   "language": "python",
   "name": "python3"
  },
  "language_info": {
   "codemirror_mode": {
    "name": "ipython",
    "version": 3
   },
   "file_extension": ".py",
   "mimetype": "text/x-python",
   "name": "python",
   "nbconvert_exporter": "python",
   "pygments_lexer": "ipython3",
   "version": "3.9.7"
  },
  "orig_nbformat": 4,
  "vscode": {
   "interpreter": {
    "hash": "6eec5783cead8994111ec2c2ab7a5b5f192c70346661dd95f508e2153e4d4c17"
   }
  }
 },
 "nbformat": 4,
 "nbformat_minor": 2
}
