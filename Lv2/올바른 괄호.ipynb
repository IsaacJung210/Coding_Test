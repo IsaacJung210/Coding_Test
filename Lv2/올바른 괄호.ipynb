{
 "cells": [
  {
   "cell_type": "markdown",
   "metadata": {},
   "source": [
    "### 문제 설명\n",
    "##### 괄호가 바르게 짝지어졌다는 것은 '(' 문자로 열렸으면 반드시 짝지어서 ')' 문자로 닫혀야 한다는 뜻입니다. 예를 들어\n",
    "\n",
    "- \"()()\" 또는 \"(())()\" 는 올바른 괄호입니다.\n",
    "- \")()(\" 또는 \"(()(\" 는 올바르지 않은 괄호입니다.\n",
    "##### '(' 또는 ')' 로만 이루어진 문자열 s가 주어졌을 때, 문자열 s가 올바른 괄호이면 true를 return 하고, 올바르지 않은 괄호이면 false를 return 하는 solution 함수를 완성해 주세요.\n",
    "\n",
    "### 제한사항\n",
    "- 문자열 s의 길이 : 100,000 이하의 자연수\n",
    "- 문자열 s는 '(' 또는 ')' 로만 이루어져 있습니다."
   ]
  },
  {
   "cell_type": "code",
   "execution_count": 40,
   "metadata": {},
   "outputs": [
    {
     "name": "stdout",
     "output_type": "stream",
     "text": [
      "True\n"
     ]
    }
   ],
   "source": [
    "s = \"()()\"\n",
    "\n",
    "def solution(s):\n",
    "    stack = []\n",
    "    for i in s:\n",
    "        if i == '(': \n",
    "            stack.append(i)\n",
    "        else:\n",
    "            if stack == []:\n",
    "                return False\n",
    "            else:\n",
    "                stack.pop()\n",
    "    \n",
    "    return stack==[]\n",
    "\n",
    "print(solution(s))"
   ]
  },
  {
   "cell_type": "code",
   "execution_count": null,
   "metadata": {},
   "outputs": [],
   "source": []
  }
 ],
 "metadata": {
  "kernelspec": {
   "display_name": "Python 3.9.7 ('base')",
   "language": "python",
   "name": "python3"
  },
  "language_info": {
   "codemirror_mode": {
    "name": "ipython",
    "version": 3
   },
   "file_extension": ".py",
   "mimetype": "text/x-python",
   "name": "python",
   "nbconvert_exporter": "python",
   "pygments_lexer": "ipython3",
   "version": "3.9.7"
  },
  "orig_nbformat": 4,
  "vscode": {
   "interpreter": {
    "hash": "6eec5783cead8994111ec2c2ab7a5b5f192c70346661dd95f508e2153e4d4c17"
   }
  }
 },
 "nbformat": 4,
 "nbformat_minor": 2
}
